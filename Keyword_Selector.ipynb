{
  "nbformat": 4,
  "nbformat_minor": 0,
  "metadata": {
    "colab": {
      "name": "Keyword_Selector.ipynb",
      "provenance": []
    },
    "kernelspec": {
      "name": "python3",
      "display_name": "Python 3"
    }
  },
  "cells": [
    {
      "cell_type": "code",
      "metadata": {
        "id": "TiwoSuAclEDb",
        "colab_type": "code",
        "colab": {}
      },
      "source": [
        "!pip install pandas"
      ],
      "execution_count": 0,
      "outputs": []
    },
    {
      "cell_type": "code",
      "metadata": {
        "id": "762whqpdlY4-",
        "colab_type": "code",
        "colab": {}
      },
      "source": [
        "import pandas as pd"
      ],
      "execution_count": 0,
      "outputs": []
    },
    {
      "cell_type": "code",
      "metadata": {
        "id": "fYg_yYlhldyM",
        "colab_type": "code",
        "outputId": "2ef17e10-1b31-4685-cc06-e4fdb162ce0c",
        "colab": {
          "base_uri": "https://localhost:8080/",
          "height": 119
        }
      },
      "source": [
        "df = pd.read_excel(\"Unigram.xls\")\n",
        "print(df.head(5))"
      ],
      "execution_count": 3,
      "outputs": [
        {
          "output_type": "stream",
          "text": [
            "   Word  Freq\n",
            "0  want   315\n",
            "1  life   197\n",
            "2   die   165\n",
            "3  kill   145\n",
            "4  like   137\n"
          ],
          "name": "stdout"
        }
      ]
    },
    {
      "cell_type": "code",
      "metadata": {
        "id": "dgKWqEw7l7SK",
        "colab_type": "code",
        "colab": {}
      },
      "source": [
        "word = df['Word'].to_list()\n",
        "frequency = df['Freq'].to_list()"
      ],
      "execution_count": 0,
      "outputs": []
    },
    {
      "cell_type": "code",
      "metadata": {
        "id": "h6S6qp-NrpuS",
        "colab_type": "code",
        "colab": {}
      },
      "source": [
        "word_new = []\n",
        "\n",
        "for x in frequency:\n",
        "    if x > 50:\n",
        "        freq_index = frequency.index(x)\n",
        "        word_value = word[freq_index]\n",
        "        word_new.append(word_value)"
      ],
      "execution_count": 0,
      "outputs": []
    },
    {
      "cell_type": "code",
      "metadata": {
        "id": "gpAMW-IYtr9N",
        "colab_type": "code",
        "colab": {
          "base_uri": "https://localhost:8080/",
          "height": 459
        },
        "outputId": "d9dc34f6-752d-426b-cffd-58cd9da5332f"
      },
      "source": [
        "word_new"
      ],
      "execution_count": 9,
      "outputs": [
        {
          "output_type": "execute_result",
          "data": {
            "text/plain": [
              "['want',\n",
              " 'life',\n",
              " 'die',\n",
              " 'kill',\n",
              " 'like',\n",
              " 'feel',\n",
              " 'suicide',\n",
              " 'help',\n",
              " 'know',\n",
              " 'anymore',\n",
              " 'get',\n",
              " 'need',\n",
              " 'one',\n",
              " 'going',\n",
              " 'end',\n",
              " 'friend',\n",
              " 'think',\n",
              " 'someone',\n",
              " 'suicidal',\n",
              " 'im',\n",
              " 'im',\n",
              " 'live',\n",
              " 'really',\n",
              " 'much',\n",
              " 'day',\n",
              " 'today']"
            ]
          },
          "metadata": {
            "tags": []
          },
          "execution_count": 9
        }
      ]
    },
    {
      "cell_type": "code",
      "metadata": {
        "id": "wP7lhnO3tub7",
        "colab_type": "code",
        "colab": {}
      },
      "source": [
        "with open(\"Keywords_Final.txt\", \"wt\") as f:\n",
        "    for x in word_new:\n",
        "        print(x, file = f)"
      ],
      "execution_count": 0,
      "outputs": []
    }
  ]
}